{
 "cells": [
  {
   "cell_type": "markdown",
   "metadata": {},
   "source": [
    "# Системы контроля версий  \n",
    "**Version Control System, VCS**\n",
    "  \n",
    "  \n",
    "Современные VCS позволяют  \n",
    "* сохранить состояние файла и нужные метаданные (кто и когда сделал изменение)\n",
    "* откатить файл к предыдущей версии если что-то пошло не так\n",
    "* откатить целый проект к нужному состоянию  \n",
    "* сраванивать разные версии файла между собой  \n",
    "\n",
    "## Локальные VCS  \n",
    "  \n",
    "Самые ранние VCS начали появляться в 70-х и работали в пределах на одной машине.  \n",
    "Наиболее яркий представитель - **RCS**.  \n",
    "Все работало через запись дельты между версиями файлов.  \n",
    "  \n",
    "Пример вычисления дельты с помощью **diff**\n",
    "  "
   ]
  },
  {
   "cell_type": "code",
   "execution_count": 15,
   "metadata": {},
   "outputs": [
    {
     "name": "stdout",
     "output_type": "stream",
     "text": [
      "--- curr_v1.txt\t2020-03-18 03:03:23.000000000 +0300\r\n",
      "+++ curr_v2.txt\t2020-03-18 03:03:23.000000000 +0300\r\n",
      "@@ -1,4 +1,5 @@\r\n",
      " Курс USDRUB_TOM\r\n",
      "- был 30.23\r\n",
      "+ стал 75.80\r\n",
      "+Эх, трудно стало жить\r\n",
      "  По кайфу\r\n",
      "- Прекрасная сырьевая экономика\r\n",
      "+ Прекрасная сырьевая экономика?\r\n"
     ]
    }
   ],
   "source": [
    "!echo \"Курс USDRUB_TOM\\n был 30.23\\n По кайфу\\n Прекрасная сырьевая экономика\" > curr_v1.txt\n",
    "!echo \"Курс USDRUB_TOM\\n стал 75.80\\nЭх, трудно стало жить\\n По кайфу\\n Прекрасная сырьевая экономика?\" > curr_v2.txt\n",
    "!diff -u curr_v1.txt curr_v2.txt"
   ]
  },
  {
   "cell_type": "code",
   "execution_count": 16,
   "metadata": {},
   "outputs": [],
   "source": [
    "!rm curr_v1.txt curr_v2.txt"
   ]
  },
  {
   "cell_type": "markdown",
   "metadata": {},
   "source": [
    "## Централизированные VCS  \n",
    "\n",
    "<img src=\"./ipynb_content/shared.png\" alt=\"SO\" width=\"500\"/>   \n",
    "  \n",
    "  \n",
    "Они появились с развитием командной разработки, и стали стандартом на протяжении 90-х и первой половины нулевых.  \n",
    "Возможности:  \n",
    "* все всегда знают кто и что делает  \n",
    "* единое пространство для контроля  \n",
    "\n",
    "Минусы:  \n",
    "* клиенты хранят только одно состояние репозитория\n",
    "* единая точка отказа - сервер недоступен, никто не внесет новых изменений\n",
    "* история изменений хранится только на сервере - риск потерять все за один раз  \n",
    "  \n",
    "Представители:  \n",
    "* Subversion (SVN)\n",
    "* CVS\n",
    "* Microsoft Team Foundation Server (TFS)  \n",
    "* SourceSafe"
   ]
  },
  {
   "cell_type": "markdown",
   "metadata": {},
   "source": [
    "## Распределенные VCS  \n",
    "**Distributed VCS (DVCS)**\n",
    "\n",
    "<img src=\"./ipynb_content/distr.png\" alt=\"SO\" width=\"500\"/>  \n",
    "\n",
    "  \n",
    "Все участники DVCS хранят у себя историю изменений, не только на общем сервере.  \n",
    "Более того, каждый участник может работать с несколькими удаленными репозиториями.  \n",
    "\n",
    "Например, экспериментальные части проекта отправляются на один сервер, а стабильные - на другой.  \n",
    "  \n",
    "Реализации:  \n",
    "* Git\n",
    "* Mercurial\n",
    "* Bazaar"
   ]
  },
  {
   "cell_type": "markdown",
   "metadata": {},
   "source": [
    "## GIt  \n",
    "  \n",
    "Самая популярная VCS и одна из самых мощных.  \n",
    "\n",
    "### История появления   \n",
    "В 2005 году разработчики ядра Linux были вынуждены мигрировать с VCS BitKeeper.  \n",
    "Разработчик BitKeeper предложил неприемлимые условия проекту, что взбесило их.  \n",
    "Так появился Git, при разработке которого преследовались: \n",
    "* скорость\n",
    "* простота архитектуры\n",
    "* поддержка большого числа веток (>> 1000)\n",
    "* полная распределенность\n",
    "* способность поддерживать огромные проекты (~28 млн строк - Linux Kernel)  \n",
    "\n",
    "Разумеется, со времен первого релиза, Git стал только лучше :)\n",
    "  \n",
    "### Главный миф о Git  \n",
    "Говорят, что Git - очень сложная штука.  \n",
    "Когда-то это действительно было так.  \n",
    "Однако сейчас, существует разделение команд на два класса - **plumber** и **porcelain**.  \n",
    "  \n",
    "Plumber-команды позволяют работать с Git на самом низком уровне.  \n",
    "Porcelain-команды работают поверх Plumber-слоя.  \n",
    "  \n",
    "В большинстве кейсов для жизни хватает **porcelain**-команд\n"
   ]
  },
  {
   "cell_type": "markdown",
   "metadata": {},
   "source": [
    "## Поработаем с GIt   \n",
    "  \n",
    "### Установка\n",
    "По умолчанию, Git в комплекте со многими Linux-дистрибутивами и macOS.  \n",
    "Для Windows также есть пакет, при установке нужно выбрать режим терминала (встроенный windows/cygwin).\n",
    "  \n",
    "  \n",
    "### Начало работы  \n",
    "Для примеров мы будем использовать два репозитория - курсовой и пустой"
   ]
  },
  {
   "cell_type": "code",
   "execution_count": 18,
   "metadata": {},
   "outputs": [
    {
     "name": "stdout",
     "output_type": "stream",
     "text": [
      "Cloning into '/tmp/git_workshop'...\n",
      "remote: Enumerating objects: 67, done.\u001b[K\n",
      "remote: Counting objects: 100% (67/67), done.\u001b[K\n",
      "remote: Compressing objects: 100% (61/61), done.\u001b[K\n",
      "remote: Total 67 (delta 14), reused 53 (delta 6), pack-reused 0\u001b[K\n",
      "Unpacking objects: 100% (67/67), done.\n",
      "Checking connectivity... done.\n"
     ]
    }
   ],
   "source": [
    "!git clone https://github.com/kib-courses/python_developer.git /tmp/git_workshop"
   ]
  },
  {
   "cell_type": "markdown",
   "metadata": {},
   "source": [
    "Мы только что склонировали удаленный репозиторий.  \n",
    "Посмотрим что получилось:  "
   ]
  },
  {
   "cell_type": "code",
   "execution_count": 19,
   "metadata": {},
   "outputs": [
    {
     "name": "stdout",
     "output_type": "stream",
     "text": [
      "total 776\r\n",
      "drwxr-xr-x  11 lancer  wheel     352 Mar 18 03:45 \u001b[34m.\u001b[m\u001b[m\r\n",
      "drwxrwxrwt  12 root    wheel     384 Mar 18 03:45 \u001b[30m\u001b[42m..\u001b[m\u001b[m\r\n",
      "drwxr-xr-x  13 lancer  wheel     416 Mar 18 03:45 \u001b[34m.git\u001b[m\u001b[m\r\n",
      "-rw-r--r--   1 lancer  wheel    1799 Mar 18 03:45 .gitignore\r\n",
      "-rw-r--r--   1 lancer  wheel    7048 Mar 18 03:45 LICENSE\r\n",
      "-rw-r--r--   1 lancer  wheel  371024 Mar 18 03:45 Python_Lecture1.pptx\r\n",
      "-rw-r--r--   1 lancer  wheel     140 Mar 18 03:45 README.md\r\n",
      "-rw-r--r--   1 lancer  wheel      58 Mar 18 03:45 interpreted.py\r\n",
      "drwxr-xr-x  10 lancer  wheel     320 Mar 18 03:45 \u001b[34mlecture_1\u001b[m\u001b[m\r\n",
      "drwxr-xr-x   7 lancer  wheel     224 Mar 18 03:45 \u001b[34mlecture_2\u001b[m\u001b[m\r\n",
      "-rw-r--r--   1 lancer  wheel     165 Mar 18 03:45 ~$Python_Lecture1.pptx\r\n"
     ]
    }
   ],
   "source": [
    "!ls -al /tmp/git_workshop"
   ]
  },
  {
   "cell_type": "markdown",
   "metadata": {},
   "source": [
    "Узнаем все файлы, которые уже видели на GitHub.  \n",
    "При создании репозитория или клонировании существующего, создается каталог **.git**.  \n",
    "Все что необходимо, **git** хранит именно там"
   ]
  },
  {
   "cell_type": "code",
   "execution_count": 20,
   "metadata": {},
   "outputs": [
    {
     "name": "stdout",
     "output_type": "stream",
     "text": [
      "total 40\r\n",
      "drwxr-xr-x  13 lancer  wheel   416 Mar 18 03:45 \u001b[34m.\u001b[m\u001b[m\r\n",
      "drwxr-xr-x  11 lancer  wheel   352 Mar 18 03:45 \u001b[34m..\u001b[m\u001b[m\r\n",
      "-rw-r--r--   1 lancer  wheel    23 Mar 18 03:45 HEAD\r\n",
      "drwxr-xr-x   2 lancer  wheel    64 Mar 18 03:45 \u001b[34mbranches\u001b[m\u001b[m\r\n",
      "-rw-r--r--   1 lancer  wheel   321 Mar 18 03:45 config\r\n",
      "-rw-r--r--   1 lancer  wheel    73 Mar 18 03:45 description\r\n",
      "drwxr-xr-x  11 lancer  wheel   352 Mar 18 03:45 \u001b[34mhooks\u001b[m\u001b[m\r\n",
      "-rw-r--r--   1 lancer  wheel  3512 Mar 18 03:45 index\r\n",
      "drwxr-xr-x   3 lancer  wheel    96 Mar 18 03:45 \u001b[34minfo\u001b[m\u001b[m\r\n",
      "drwxr-xr-x   4 lancer  wheel   128 Mar 18 03:45 \u001b[34mlogs\u001b[m\u001b[m\r\n",
      "drwxr-xr-x  63 lancer  wheel  2016 Mar 18 03:45 \u001b[34mobjects\u001b[m\u001b[m\r\n",
      "-rw-r--r--   1 lancer  wheel   107 Mar 18 03:45 packed-refs\r\n",
      "drwxr-xr-x   5 lancer  wheel   160 Mar 18 03:45 \u001b[34mrefs\u001b[m\u001b[m\r\n"
     ]
    }
   ],
   "source": [
    "!ls -al /tmp/git_workshop/.git"
   ]
  },
  {
   "cell_type": "markdown",
   "metadata": {},
   "source": [
    "## Основные понятия GIt  (from low-level to high)  \n",
    "**На основе Pro Git, глава Git Internals**  \n",
    "  \n",
    "Рассмотрим три основных вида объектов - blob, tree, commit  \n",
    "\n",
    "Для начала, создадим чистый Git-репозиторий.  \n",
    "И прежде чем смотреть дальше, нужно представить что Git работает как файловая система"
   ]
  },
  {
   "cell_type": "code",
   "execution_count": 23,
   "metadata": {},
   "outputs": [
    {
     "name": "stdout",
     "output_type": "stream",
     "text": [
      "Initialized empty Git repository in /private/tmp/git_clean/.git/\r\n"
     ]
    }
   ],
   "source": [
    "!git init /tmp/git_clean"
   ]
  },
  {
   "cell_type": "code",
   "execution_count": 33,
   "metadata": {},
   "outputs": [
    {
     "name": "stdout",
     "output_type": "stream",
     "text": [
      "total 0\r\n",
      "drwxr-xr-x   3 lancer  wheel   96 Mar 18 04:01 \u001b[34m.\u001b[m\u001b[m\r\n",
      "drwxrwxrwt  13 root    wheel  416 Mar 18 04:01 \u001b[30m\u001b[42m..\u001b[m\u001b[m\r\n",
      "drwxr-xr-x  10 lancer  wheel  320 Mar 18 04:01 \u001b[34m.git\u001b[m\u001b[m\r\n"
     ]
    }
   ],
   "source": [
    "!cd /tmp/git_clean/ && ls -al "
   ]
  },
  {
   "cell_type": "code",
   "execution_count": 168,
   "metadata": {
    "scrolled": true
   },
   "outputs": [
    {
     "name": "stdout",
     "output_type": "stream",
     "text": [
      "total 40\r\n",
      "drwxr-xr-x  13 lancer  wheel  416 Mar 18 06:09 \u001b[34m.\u001b[m\u001b[m\r\n",
      "drwxr-xr-x   5 lancer  wheel  160 Mar 18 06:03 \u001b[34m..\u001b[m\u001b[m\r\n",
      "-rw-r--r--   1 lancer  wheel   14 Mar 18 06:09 COMMIT_EDITMSG\r\n",
      "-rw-r--r--   1 lancer  wheel   41 Mar 18 06:09 HEAD\r\n",
      "drwxr-xr-x   2 lancer  wheel   64 Mar 18 04:01 \u001b[34mbranches\u001b[m\u001b[m\r\n",
      "-rw-r--r--   1 lancer  wheel  137 Mar 18 04:01 config\r\n",
      "-rw-r--r--   1 lancer  wheel   73 Mar 18 04:01 description\r\n",
      "drwxr-xr-x  11 lancer  wheel  352 Mar 18 04:01 \u001b[34mhooks\u001b[m\u001b[m\r\n",
      "-rw-r--r--   1 lancer  wheel  336 Mar 18 06:08 index\r\n",
      "drwxr-xr-x   3 lancer  wheel   96 Mar 18 04:01 \u001b[34minfo\u001b[m\u001b[m\r\n",
      "drwxr-xr-x   3 lancer  wheel   96 Mar 18 06:00 \u001b[34mlogs\u001b[m\u001b[m\r\n",
      "drwxr-xr-x  13 lancer  wheel  416 Mar 18 06:09 \u001b[34mobjects\u001b[m\u001b[m\r\n",
      "drwxr-xr-x   4 lancer  wheel  128 Mar 18 04:01 \u001b[34mrefs\u001b[m\u001b[m\r\n"
     ]
    }
   ],
   "source": [
    "!cd /tmp/git_clean/ && ls -al .git"
   ]
  },
  {
   "cell_type": "markdown",
   "metadata": {},
   "source": [
    "### blob objects\n",
    "\n",
    "Хранение сырых данных в Git устроено как в обычном словаре.  \n",
    "Каждому блобу выдается метка.  \n",
    "Для добавления есть plumbing-команда hash-object"
   ]
  },
  {
   "cell_type": "code",
   "execution_count": 36,
   "metadata": {},
   "outputs": [
    {
     "name": "stdout",
     "output_type": "stream",
     "text": [
      "d670460b4b4aece5915caf5c68d12f560a9fe3e4\r\n"
     ]
    }
   ],
   "source": [
    "!cd /tmp/git_clean/ && echo 'test content' | git hash-object -w --stdin"
   ]
  },
  {
   "cell_type": "code",
   "execution_count": 42,
   "metadata": {},
   "outputs": [
    {
     "name": "stdout",
     "output_type": "stream",
     "text": [
      "total 8\r\n",
      "drwxr-xr-x  3 lancer  wheel   96 Mar 18 04:06 \u001b[34m.\u001b[m\u001b[m\r\n",
      "drwxr-xr-x  5 lancer  wheel  160 Mar 18 04:06 \u001b[34m..\u001b[m\u001b[m\r\n",
      "-r--r--r--  1 lancer  wheel   29 Mar 18 04:06 70460b4b4aece5915caf5c68d12f560a9fe3e4\r\n"
     ]
    }
   ],
   "source": [
    "!cd /tmp/git_clean/ && ls -al .git/objects/d6"
   ]
  },
  {
   "cell_type": "markdown",
   "metadata": {},
   "source": [
    "Наш объект добавился в каталог objects/d6.  \n",
    "Взглянуть на него снова мы сможем с помощью его метки и команды cat-file"
   ]
  },
  {
   "cell_type": "code",
   "execution_count": 45,
   "metadata": {},
   "outputs": [
    {
     "name": "stdout",
     "output_type": "stream",
     "text": [
      "test content\r\n"
     ]
    }
   ],
   "source": [
    "!cd /tmp/git_clean/ && git cat-file -p d670460b4b4aece5915caf5c68d12f560a9fe3e4"
   ]
  },
  {
   "cell_type": "markdown",
   "metadata": {},
   "source": [
    "Тип объекта - blob.  \n",
    "**Вся информация о файлах хранится в таких блобах**  "
   ]
  },
  {
   "cell_type": "code",
   "execution_count": 47,
   "metadata": {
    "scrolled": true
   },
   "outputs": [
    {
     "name": "stdout",
     "output_type": "stream",
     "text": [
      "blob\r\n"
     ]
    }
   ],
   "source": [
    "!cd /tmp/git_clean/ && git cat-file -t d670460b4b4aece5915caf5c68d12f560a9fe3e4"
   ]
  },
  {
   "cell_type": "markdown",
   "metadata": {},
   "source": [
    "### tree objects   \n",
    "  \n",
    "Отлично, что git работает как обычный словарь.  \n",
    "Но как нам сохранить отношение между блобами и названиями файлов?  \n",
    "**tree-объект** - своего рода каталог, который знает свои файлы, их режим чтения, и где получить их содержимое\n",
    "  \n",
    "Их SHA-1 можно получить из коммитов (**о них чуть ниже**).  \n",
    "Посмотрим на текущее состояние репозитория"
   ]
  },
  {
   "cell_type": "code",
   "execution_count": 53,
   "metadata": {
    "scrolled": true
   },
   "outputs": [
    {
     "name": "stdout",
     "output_type": "stream",
     "text": [
      "tree f6ea389a06e9b5b0f943b554c0f727a304c880b6\r\n",
      "parent 2bd4ec2df932ed1d02b6bbc4f9b133f50ac1b440\r\n",
      "author Nikolay Matkheev <nicola.matheev@gmail.com> 1583960806 +0300\r\n",
      "committer Nikolay Matkheev <nicola.matheev@gmail.com> 1583960806 +0300\r\n",
      "\r\n",
      "Brushup for secondary ipynb\r\n"
     ]
    }
   ],
   "source": [
    "!cd /tmp/git_workshop/ && git cat-file -p HEAD"
   ]
  },
  {
   "cell_type": "code",
   "execution_count": 61,
   "metadata": {},
   "outputs": [
    {
     "name": "stdout",
     "output_type": "stream",
     "text": [
      "100644 blob b6e47617de110dea7ca47e087ff1347cc2646eda\t.gitignore\r\n",
      "100644 blob 0e259d42c996742e9e3cba14c677129b2c1b6311\tLICENSE\r\n",
      "100644 blob c2ca4e0a0714ca85ba97ebc4603b7a0a848529ee\tPython_Lecture1.pptx\r\n",
      "100644 blob c9e3ccb5ce6cd381e4328f85ac2bd60d60ecd256\tREADME.md\r\n",
      "100644 blob 35fabf864661e68768290a4d7b596c9a12752f18\tinterpreted.py\r\n",
      "040000 tree 08b1124f341c612b57049f9ea58c416538d37363\tlecture_1\r\n",
      "040000 tree 5744d351a88ca2b36f1957f0c78f0e5b585103e9\tlecture_2\r\n",
      "100644 blob cfb570fc3c0f196d3c90d3ec916cf63b376158c8\t~$Python_Lecture1.pptx\r\n"
     ]
    }
   ],
   "source": [
    "!cd /tmp/git_workshop/ && git cat-file -p f6ea389a06e9b5b0f943b554c0f727a304c880b6"
   ]
  },
  {
   "cell_type": "markdown",
   "metadata": {},
   "source": [
    "Предыдущее состояние репозитория "
   ]
  },
  {
   "cell_type": "code",
   "execution_count": 62,
   "metadata": {},
   "outputs": [
    {
     "name": "stdout",
     "output_type": "stream",
     "text": [
      "tree a4e6162c8b3cc7a9ba4c635ff2e965bc5da9b558\r\n",
      "parent 812f041b21ab556a974bdf0df4bd2b203c3a0f4a\r\n",
      "author Ivan <romvano@gmail.com> 1583940552 +0300\r\n",
      "committer Ivan <romvano@gmail.com> 1583940552 +0300\r\n",
      "\r\n",
      "ivan 2 lecture\r\n"
     ]
    }
   ],
   "source": [
    "!cd /tmp/git_workshop/ && git cat-file -p 2bd4ec2df932ed1d02b6bbc4f9b133f50ac1b440"
   ]
  },
  {
   "cell_type": "code",
   "execution_count": 63,
   "metadata": {},
   "outputs": [
    {
     "name": "stdout",
     "output_type": "stream",
     "text": [
      "100644 blob b6e47617de110dea7ca47e087ff1347cc2646eda\t.gitignore\r\n",
      "100644 blob 0e259d42c996742e9e3cba14c677129b2c1b6311\tLICENSE\r\n",
      "100644 blob c2ca4e0a0714ca85ba97ebc4603b7a0a848529ee\tPython_Lecture1.pptx\r\n",
      "100644 blob c9e3ccb5ce6cd381e4328f85ac2bd60d60ecd256\tREADME.md\r\n",
      "100644 blob 35fabf864661e68768290a4d7b596c9a12752f18\tinterpreted.py\r\n",
      "040000 tree 08b1124f341c612b57049f9ea58c416538d37363\tlecture_1\r\n",
      "040000 tree cd1a372d5ab06057d39e780660883ecf566913e4\tlecture_2\r\n",
      "100644 blob cfb570fc3c0f196d3c90d3ec916cf63b376158c8\t~$Python_Lecture1.pptx\r\n"
     ]
    }
   ],
   "source": [
    "!cd /tmp/git_workshop/ && git cat-file -p a4e6162c8b3cc7a9ba4c635ff2e965bc5da9b558"
   ]
  },
  {
   "cell_type": "markdown",
   "metadata": {},
   "source": [
    "Подкаталог в репозитории - дочерний tree-объект.  \n",
    "Заглянем в каталог **lecture_2**, когда с ним что-то делал Иван"
   ]
  },
  {
   "cell_type": "code",
   "execution_count": 65,
   "metadata": {},
   "outputs": [
    {
     "name": "stdout",
     "output_type": "stream",
     "text": [
      "100644 blob 96fd1409306aa0c8d13d26ec277b02ea69f98900\t05. Functions.ipynb\r\n",
      "100644 blob 401bb7c666aa1ad916252f0a2f167613fe34583c\t06. Generators.ipynb\r\n",
      "100644 blob 8c718c4012db09aded2176146a73c3af1278d90f\t07. Libraries.ipynb\r\n",
      "100644 blob 3a0019f1934faa0f8ecb4b6acd8e629d5f6cc781\tLecture 2.ipynb\r\n",
      "040000 tree 3bcd86e80e5b2f346c16d81517d305f77cb37b54\tipynb_content\r\n"
     ]
    }
   ],
   "source": [
    "!cd /tmp/git_workshop/ && git cat-file -p cd1a372d5ab06057d39e780660883ecf566913e4"
   ]
  },
  {
   "cell_type": "markdown",
   "metadata": {},
   "source": [
    "staging-area > tree object"
   ]
  },
  {
   "cell_type": "markdown",
   "metadata": {},
   "source": [
    "### commit-objects  \n",
    "  \n",
    "Единомоментный набор изменений выражается в Git с помощью коммита.  \n",
    "В нем есть ссылка на tree-объект, id предыдщего коммита, время и инфа о создателе.  \n",
    "  \n",
    "Мы уже добавляли новый объект в пустой репозиторий (ячейка №36).  \n",
    "Создадим tree-объект. обновим индекс и создадим коммит  \n",
    "\n",
    "В каждый момент времени активен tree-объект - working tree"
   ]
  },
  {
   "cell_type": "code",
   "execution_count": 67,
   "metadata": {},
   "outputs": [],
   "source": [
    "!cd /tmp/git_clean/ && git update-index --add --cacheinfo 100644 d670460b4b4aece5915caf5c68d12f560a9fe3e4 hello.wrd"
   ]
  },
  {
   "cell_type": "code",
   "execution_count": 68,
   "metadata": {},
   "outputs": [
    {
     "name": "stdout",
     "output_type": "stream",
     "text": [
      "31ce1651aa5db4dde43a532a5bb30921aeb04f32\r\n"
     ]
    }
   ],
   "source": [
    "!cd /tmp/git_clean/ && git write-tree"
   ]
  },
  {
   "cell_type": "code",
   "execution_count": 69,
   "metadata": {},
   "outputs": [
    {
     "name": "stdout",
     "output_type": "stream",
     "text": [
      "100644 blob d670460b4b4aece5915caf5c68d12f560a9fe3e4\thello.wrd\r\n"
     ]
    }
   ],
   "source": [
    "!cd /tmp/git_clean/ && git cat-file -p 31ce1651aa5db4dde43a532a5bb30921aeb04f32"
   ]
  },
  {
   "cell_type": "markdown",
   "metadata": {},
   "source": [
    "Снова добавим новую фигню и обновим working tree"
   ]
  },
  {
   "cell_type": "code",
   "execution_count": 70,
   "metadata": {},
   "outputs": [],
   "source": [
    "!cd /tmp/git_clean/ && echo 'great_day' > pumpkins.wrd"
   ]
  },
  {
   "cell_type": "code",
   "execution_count": 71,
   "metadata": {},
   "outputs": [],
   "source": [
    "!cd /tmp/git_clean/ && git update-index --add pumpkins.wrd"
   ]
  },
  {
   "cell_type": "code",
   "execution_count": 72,
   "metadata": {},
   "outputs": [
    {
     "name": "stdout",
     "output_type": "stream",
     "text": [
      "aed1646ec85d9097531e7230ee9c611a1a2ee8a8\r\n"
     ]
    }
   ],
   "source": [
    "!cd /tmp/git_clean/ && git write-tree"
   ]
  },
  {
   "cell_type": "code",
   "execution_count": 73,
   "metadata": {},
   "outputs": [
    {
     "name": "stdout",
     "output_type": "stream",
     "text": [
      "100644 blob d670460b4b4aece5915caf5c68d12f560a9fe3e4\thello.wrd\r\n",
      "100644 blob 410f4bbf3e44ba7d3cfe0ef8c5c8982b383a788a\tpumpkins.wrd\r\n"
     ]
    }
   ],
   "source": [
    "!cd /tmp/git_clean/ && git cat-file -p aed1646ec85d9097531e7230ee9c611a1a2ee8a8"
   ]
  },
  {
   "cell_type": "markdown",
   "metadata": {},
   "source": [
    "Создадим вложенный каталог 'whoa' и поместим в него файлы из предыдущего tree"
   ]
  },
  {
   "cell_type": "code",
   "execution_count": 74,
   "metadata": {},
   "outputs": [],
   "source": [
    "!cd /tmp/git_clean/ && git read-tree --prefix=whoa 31ce1651aa5db4dde43a532a5bb30921aeb04f32"
   ]
  },
  {
   "cell_type": "code",
   "execution_count": 75,
   "metadata": {},
   "outputs": [
    {
     "name": "stdout",
     "output_type": "stream",
     "text": [
      "eef1341de0ac629cc4bbc0ed82faa37056feb7de\r\n"
     ]
    }
   ],
   "source": [
    "!cd /tmp/git_clean/ && git write-tree"
   ]
  },
  {
   "cell_type": "code",
   "execution_count": 76,
   "metadata": {},
   "outputs": [
    {
     "name": "stdout",
     "output_type": "stream",
     "text": [
      "100644 blob d670460b4b4aece5915caf5c68d12f560a9fe3e4\thello.wrd\r\n",
      "100644 blob 410f4bbf3e44ba7d3cfe0ef8c5c8982b383a788a\tpumpkins.wrd\r\n",
      "040000 tree 31ce1651aa5db4dde43a532a5bb30921aeb04f32\twhoa\r\n"
     ]
    }
   ],
   "source": [
    "!cd /tmp/git_clean/ && git cat-file -p eef1341de0ac629cc4bbc0ed82faa37056feb7de"
   ]
  },
  {
   "cell_type": "code",
   "execution_count": 77,
   "metadata": {},
   "outputs": [
    {
     "name": "stdout",
     "output_type": "stream",
     "text": [
      "100644 blob d670460b4b4aece5915caf5c68d12f560a9fe3e4\thello.wrd\r\n"
     ]
    }
   ],
   "source": [
    "!cd /tmp/git_clean/ && git cat-file -p 31ce1651aa5db4dde43a532a5bb30921aeb04f32"
   ]
  },
  {
   "cell_type": "markdown",
   "metadata": {},
   "source": [
    "Сделаем собственно коммит"
   ]
  },
  {
   "cell_type": "code",
   "execution_count": 79,
   "metadata": {},
   "outputs": [
    {
     "name": "stdout",
     "output_type": "stream",
     "text": [
      "637c1127f20ec446c94addf41d0b6e9517ff9b00\r\n"
     ]
    }
   ],
   "source": [
    "!cd /tmp/git_clean/ && echo 'First plumber commit' | git commit-tree eef1341de0ac629cc4bbc0ed82faa37056feb7de"
   ]
  },
  {
   "cell_type": "code",
   "execution_count": 80,
   "metadata": {},
   "outputs": [
    {
     "name": "stdout",
     "output_type": "stream",
     "text": [
      "tree eef1341de0ac629cc4bbc0ed82faa37056feb7de\r\n",
      "author Nikolay Matkheev <nicola.matheev@gmail.com> 1584497278 +0300\r\n",
      "committer Nikolay Matkheev <nicola.matheev@gmail.com> 1584497278 +0300\r\n",
      "\r\n",
      "First plumber commit\r\n"
     ]
    }
   ],
   "source": [
    "!cd /tmp/git_clean/ && git cat-file -p 637c1127f20ec446c94addf41d0b6e9517ff9b00"
   ]
  },
  {
   "cell_type": "markdown",
   "metadata": {},
   "source": [
    "Вот что получилось:  \n",
    "\n",
    "<img src=\"./ipynb_content/plumbing.png\" alt=\"SO\" width=\"500\"/> "
   ]
  },
  {
   "cell_type": "markdown",
   "metadata": {},
   "source": [
    "### references  \n",
    "  \n",
    "Очень напряжно помнить короткий sha1 коммита.  \n",
    "В git есть reference-объекты.  \n",
    "Давайте создадим указатель 'master', который будет ссылаться на наш рукотворный коммит"
   ]
  },
  {
   "cell_type": "code",
   "execution_count": 170,
   "metadata": {},
   "outputs": [
    {
     "name": "stdout",
     "output_type": "stream",
     "text": [
      "total 0\r\n",
      "drwxr-xr-x   4 lancer  wheel  128 Mar 18 04:01 \u001b[34m.\u001b[m\u001b[m\r\n",
      "drwxr-xr-x  13 lancer  wheel  416 Mar 18 06:09 \u001b[34m..\u001b[m\u001b[m\r\n",
      "drwxr-xr-x   3 lancer  wheel   96 Mar 18 05:37 \u001b[34mheads\u001b[m\u001b[m\r\n",
      "drwxr-xr-x   2 lancer  wheel   64 Mar 18 04:01 \u001b[34mtags\u001b[m\u001b[m\r\n"
     ]
    }
   ],
   "source": [
    "!cd /tmp/git_clean/ && ls -al .git/refs"
   ]
  },
  {
   "cell_type": "code",
   "execution_count": 96,
   "metadata": {},
   "outputs": [],
   "source": [
    "!cd /tmp/git_clean/ && echo '637c1127f20ec446c94addf41d0b6e9517ff9b00' > .git/refs/heads/master"
   ]
  },
  {
   "cell_type": "code",
   "execution_count": 98,
   "metadata": {},
   "outputs": [
    {
     "name": "stdout",
     "output_type": "stream",
     "text": [
      "\u001b[33m637c1127f20ec446c94addf41d0b6e9517ff9b00\u001b[m First plumber commit\r\n"
     ]
    }
   ],
   "source": [
    "!cd /tmp/git_clean/ && git log --pretty=oneline master"
   ]
  },
  {
   "cell_type": "markdown",
   "metadata": {},
   "source": [
    "Ветки тоже являются своего рода указателями"
   ]
  },
  {
   "cell_type": "code",
   "execution_count": 167,
   "metadata": {},
   "outputs": [
    {
     "name": "stdout",
     "output_type": "stream",
     "text": [
      "6c410d638881b09272d80d1b0dc3bd2eb6703193\r\n"
     ]
    }
   ],
   "source": [
    "!cd /tmp/git_workshop/ && cat .git/refs/heads/master"
   ]
  },
  {
   "cell_type": "markdown",
   "metadata": {},
   "source": [
    "## Жизненный цикл данных в Git   \n",
    "  \n",
    "Дано: подготовленный локальный репозиторий, в котором происходят изменения. \n",
    "\n",
    "<img src=\"./ipynb_content/cycle.png\" alt=\"SO\" width=\"700\"/>  \n",
    "  \n",
    "Каждый файл проходит через 4 состояния:  \n",
    "* untracked  \n",
    "  Файл создан и не добавлен в репозиторий  \n",
    "* staged\n",
    "  Файл добавлен в индекс (еще называют staging area, working tree).  \n",
    "  Но пока он не содержится ни в одном коммите\n",
    "* unmodified  \n",
    "  Файл уже содержится в репозитории, и не был изменен.\n",
    "* modified  \n",
    "  Файл уже содержится в репозитории, и претерпел изменения.  \n",
    "  \n",
    "**Важно помнить - Git не хранит изменения дельтами. При каждом изменении индексированного файла в базу добавляется новый blob**"
   ]
  },
  {
   "cell_type": "markdown",
   "metadata": {},
   "source": [
    "### Переходные состояния файлов. Индекс и рабочая директория  \n",
    "<img src=\"./ipynb_content/commit.png\" alt=\"SO\" width=\"700\"/>  "
   ]
  },
  {
   "cell_type": "code",
   "execution_count": 122,
   "metadata": {},
   "outputs": [
    {
     "name": "stdout",
     "output_type": "stream",
     "text": [
      "Initialized empty Git repository in /private/tmp/git_clean2/.git/\r\n"
     ]
    }
   ],
   "source": [
    "!git init /tmp/git_clean2"
   ]
  },
  {
   "cell_type": "code",
   "execution_count": 123,
   "metadata": {},
   "outputs": [],
   "source": [
    "!cd /tmp/git_clean2/ && touch buffalo"
   ]
  },
  {
   "cell_type": "markdown",
   "metadata": {},
   "source": [
    "Могут быть нюансы при последовательном выполнении Plumbing-команд, поэтому получаем необычный результат - файлы удалены из индекса"
   ]
  },
  {
   "cell_type": "code",
   "execution_count": 124,
   "metadata": {},
   "outputs": [
    {
     "name": "stdout",
     "output_type": "stream",
     "text": [
      "On branch master\r\n",
      "\r\n",
      "Initial commit\r\n",
      "\r\n",
      "Untracked files:\r\n",
      "  (use \"git add <file>...\" to include in what will be committed)\r\n",
      "\r\n",
      "\t\u001b[31mbuffalo\u001b[m\r\n",
      "\r\n",
      "nothing added to commit but untracked files present (use \"git add\" to track)\r\n"
     ]
    }
   ],
   "source": [
    "!cd /tmp/git_clean2/ && git status"
   ]
  },
  {
   "cell_type": "markdown",
   "metadata": {},
   "source": [
    "Добавить untracked файл в индекс:  "
   ]
  },
  {
   "cell_type": "code",
   "execution_count": 125,
   "metadata": {},
   "outputs": [],
   "source": [
    "!cd /tmp/git_clean2/ && git add buffalo"
   ]
  },
  {
   "cell_type": "code",
   "execution_count": 126,
   "metadata": {},
   "outputs": [
    {
     "name": "stdout",
     "output_type": "stream",
     "text": [
      "On branch master\r\n",
      "\r\n",
      "Initial commit\r\n",
      "\r\n",
      "Changes to be committed:\r\n",
      "  (use \"git rm --cached <file>...\" to unstage)\r\n",
      "\r\n",
      "\t\u001b[32mnew file:   buffalo\u001b[m\r\n",
      "\r\n"
     ]
    }
   ],
   "source": [
    "!cd /tmp/git_clean2/ && git status"
   ]
  },
  {
   "cell_type": "markdown",
   "metadata": {},
   "source": [
    "Попробуем совершить коммит"
   ]
  },
  {
   "cell_type": "code",
   "execution_count": 127,
   "metadata": {},
   "outputs": [
    {
     "name": "stdout",
     "output_type": "stream",
     "text": [
      "[master (root-commit) d41aa02] First commit\r\n",
      " 1 file changed, 0 insertions(+), 0 deletions(-)\r\n",
      " create mode 100644 buffalo\r\n"
     ]
    }
   ],
   "source": [
    "!cd /tmp/git_clean2/ && git commit -m \"First commit\""
   ]
  },
  {
   "cell_type": "markdown",
   "metadata": {},
   "source": [
    "Изменим проиндексированный файл "
   ]
  },
  {
   "cell_type": "code",
   "execution_count": 128,
   "metadata": {},
   "outputs": [],
   "source": [
    "!cd /tmp/git_clean2/ && echo \"123\" > buffalo"
   ]
  },
  {
   "cell_type": "code",
   "execution_count": 129,
   "metadata": {},
   "outputs": [
    {
     "name": "stdout",
     "output_type": "stream",
     "text": [
      "On branch master\r\n",
      "Changes not staged for commit:\r\n",
      "  (use \"git add <file>...\" to update what will be committed)\r\n",
      "  (use \"git checkout -- <file>...\" to discard changes in working directory)\r\n",
      "\r\n",
      "\t\u001b[31mmodified:   buffalo\u001b[m\r\n",
      "\r\n",
      "no changes added to commit (use \"git add\" and/or \"git commit -a\")\r\n"
     ]
    }
   ],
   "source": [
    "!cd /tmp/git_clean2/ && git status"
   ]
  },
  {
   "cell_type": "markdown",
   "metadata": {},
   "source": [
    "### remotes and push"
   ]
  },
  {
   "cell_type": "markdown",
   "metadata": {},
   "source": [
    "Время закинуть изменения на удаленку.  \n",
    "Создадим пустую репу на GitLab.com.  \n",
    "\n",
    "После чего сможем добавить remote origin и передать ему изменения  \n",
    "Опция -u создаем маппинг на remote-версию ветки"
   ]
  },
  {
   "cell_type": "code",
   "execution_count": 137,
   "metadata": {},
   "outputs": [],
   "source": [
    "!cd /tmp/git_clean2/ && git remote add origin2 git@gitlab.com:lancerx/garbage_repo.git"
   ]
  },
  {
   "cell_type": "code",
   "execution_count": 138,
   "metadata": {},
   "outputs": [
    {
     "name": "stdout",
     "output_type": "stream",
     "text": [
      "Warning: Permanently added the RSA host key for IP address '35.231.145.151' to the list of known hosts.\n",
      "Counting objects: 3, done.\n",
      "Writing objects: 100% (3/3), 218 bytes | 0 bytes/s, done.\n",
      "Total 3 (delta 0), reused 0 (delta 0)\n",
      "To git@gitlab.com:lancerx/garbage_repo.git\n",
      " * [new branch]      master -> master\n",
      "Branch master set up to track remote branch master from origin2.\n"
     ]
    }
   ],
   "source": [
    "!cd /tmp/git_clean2/ && git push -u origin2 master"
   ]
  },
  {
   "cell_type": "code",
   "execution_count": 175,
   "metadata": {},
   "outputs": [
    {
     "name": "stdout",
     "output_type": "stream",
     "text": [
      "total 8\r\n",
      "drwxr-xr-x  3 lancer  wheel  96 Mar 18 06:43 \u001b[34m.\u001b[m\u001b[m\r\n",
      "drwxr-xr-x  3 lancer  wheel  96 Mar 18 06:28 \u001b[34m..\u001b[m\u001b[m\r\n",
      "-rw-r--r--  1 lancer  wheel  41 Mar 18 06:43 master\r\n"
     ]
    }
   ],
   "source": [
    "!cd /tmp/git_clean2/ && ls -al .git/refs/remotes/origin2"
   ]
  },
  {
   "cell_type": "markdown",
   "metadata": {},
   "source": [
    "### fetch, log  and pull\n",
    "Сделаем имитацию изменений репозитория через GitLab UI"
   ]
  },
  {
   "cell_type": "code",
   "execution_count": 148,
   "metadata": {},
   "outputs": [
    {
     "name": "stdout",
     "output_type": "stream",
     "text": [
      "remote: Enumerating objects: 5, done.\u001b[K\n",
      "remote: Counting objects: 100% (5/5), done.\u001b[K\n",
      "remote: Total 3 (delta 0), reused 0 (delta 0), pack-reused 0\u001b[K\n",
      "Unpacking objects: 100% (3/3), done.\n",
      "From gitlab.com:lancerx/garbage_repo\n",
      "   d41aa02..a580d90  master     -> origin2/master\n"
     ]
    }
   ],
   "source": [
    "!cd /tmp/git_clean2/ && git fetch origin2"
   ]
  },
  {
   "cell_type": "markdown",
   "metadata": {},
   "source": [
    "Наш локальный master отстает от origin2 на один коммит"
   ]
  },
  {
   "cell_type": "code",
   "execution_count": 150,
   "metadata": {},
   "outputs": [
    {
     "name": "stdout",
     "output_type": "stream",
     "text": [
      "* \u001b[33ma580d90\u001b[m\u001b[33m (\u001b[1;31morigin2/master\u001b[m\u001b[33m)\u001b[m Update buffalo\r\n",
      "* \u001b[33md41aa02\u001b[m\u001b[33m (\u001b[1;36mHEAD\u001b[m\u001b[33m, \u001b[1;32mmaster\u001b[m\u001b[33m)\u001b[m First commit\r\n"
     ]
    }
   ],
   "source": [
    "!cd /tmp/git_clean2/ && git log --oneline --decorate --graph --all"
   ]
  },
  {
   "cell_type": "markdown",
   "metadata": {},
   "source": [
    "Накатим новые изменения.  \n",
    "Не получится из-за пересекающихся изменений"
   ]
  },
  {
   "cell_type": "code",
   "execution_count": 151,
   "metadata": {
    "scrolled": true
   },
   "outputs": [
    {
     "name": "stdout",
     "output_type": "stream",
     "text": [
      "Updating d41aa02..a580d90\r\n",
      "error: Your local changes to the following files would be overwritten by merge:\r\n",
      "\tbuffalo\r\n",
      "Please, commit your changes or stash them before you can merge.\r\n",
      "Aborting\r\n"
     ]
    }
   ],
   "source": [
    "!cd /tmp/git_clean2/ && git pull origin2"
   ]
  },
  {
   "cell_type": "code",
   "execution_count": 156,
   "metadata": {},
   "outputs": [
    {
     "name": "stdout",
     "output_type": "stream",
     "text": [
      "On branch master\r\n",
      "Your branch is behind 'origin2/master' by 1 commit, and can be fast-forwarded.\r\n",
      "  (use \"git pull\" to update your local branch)\r\n",
      "\r\n",
      "Changes not staged for commit:\r\n",
      "  (use \"git add <file>...\" to update what will be committed)\r\n",
      "  (use \"git checkout -- <file>...\" to discard changes in working directory)\r\n",
      "\r\n",
      "\t\u001b[31mmodified:   buffalo\u001b[m\r\n",
      "\r\n",
      "Untracked files:\r\n",
      "  (use \"git add <file>...\" to include in what will be committed)\r\n",
      "\r\n",
      "\t\u001b[31mbuf.bkp\u001b[m\r\n",
      "\r\n",
      "no changes added to commit (use \"git add\" and/or \"git commit -a\")\r\n"
     ]
    }
   ],
   "source": [
    "!cd /tmp/git_clean2/ && git status"
   ]
  },
  {
   "cell_type": "markdown",
   "metadata": {},
   "source": [
    "Один из вариантов - очистить индекс от пересекающихся изменений"
   ]
  },
  {
   "cell_type": "code",
   "execution_count": 153,
   "metadata": {},
   "outputs": [],
   "source": [
    "!cd /tmp/git_clean2/ && cp buffalo buf.bkp"
   ]
  },
  {
   "cell_type": "code",
   "execution_count": 157,
   "metadata": {},
   "outputs": [],
   "source": [
    "!cd /tmp/git_clean2/ && git checkout HEAD -- buffalo"
   ]
  },
  {
   "cell_type": "code",
   "execution_count": 158,
   "metadata": {},
   "outputs": [
    {
     "name": "stdout",
     "output_type": "stream",
     "text": [
      "On branch master\r\n",
      "Your branch is behind 'origin2/master' by 1 commit, and can be fast-forwarded.\r\n",
      "  (use \"git pull\" to update your local branch)\r\n",
      "\r\n",
      "Untracked files:\r\n",
      "  (use \"git add <file>...\" to include in what will be committed)\r\n",
      "\r\n",
      "\t\u001b[31mbuf.bkp\u001b[m\r\n",
      "\r\n",
      "nothing added to commit but untracked files present (use \"git add\" to track)\r\n"
     ]
    }
   ],
   "source": [
    "!cd /tmp/git_clean2/ && git status"
   ]
  },
  {
   "cell_type": "code",
   "execution_count": 159,
   "metadata": {},
   "outputs": [
    {
     "name": "stdout",
     "output_type": "stream",
     "text": [
      "Updating d41aa02..a580d90\n",
      "Fast-forward\n",
      " buffalo | 1 \u001b[32m+\u001b[m\n",
      " 1 file changed, 1 insertion(+)\n"
     ]
    }
   ],
   "source": [
    "!cd /tmp/git_clean2/ && git pull origin2"
   ]
  },
  {
   "cell_type": "code",
   "execution_count": 160,
   "metadata": {},
   "outputs": [
    {
     "name": "stdout",
     "output_type": "stream",
     "text": [
      "* \u001b[33ma580d90\u001b[m\u001b[33m (\u001b[1;36mHEAD\u001b[m\u001b[33m, \u001b[1;31morigin2/master\u001b[m\u001b[33m, \u001b[1;32mmaster\u001b[m\u001b[33m)\u001b[m Update buffalo\r\n",
      "* \u001b[33md41aa02\u001b[m First commit\r\n"
     ]
    }
   ],
   "source": [
    "!cd /tmp/git_clean2/ && git log --oneline --decorate --graph --all"
   ]
  },
  {
   "cell_type": "code",
   "execution_count": null,
   "metadata": {},
   "outputs": [],
   "source": []
  },
  {
   "cell_type": "code",
   "execution_count": null,
   "metadata": {},
   "outputs": [],
   "source": []
  }
 ],
 "metadata": {
  "kernelspec": {
   "display_name": "Python 3",
   "language": "python",
   "name": "python3"
  },
  "language_info": {
   "codemirror_mode": {
    "name": "ipython",
    "version": 3
   },
   "file_extension": ".py",
   "mimetype": "text/x-python",
   "name": "python",
   "nbconvert_exporter": "python",
   "pygments_lexer": "ipython3",
   "version": "3.7.4"
  },
  "toc": {
   "base_numbering": 1,
   "nav_menu": {},
   "number_sections": true,
   "sideBar": true,
   "skip_h1_title": false,
   "title_cell": "Table of Contents",
   "title_sidebar": "Contents",
   "toc_cell": false,
   "toc_position": {},
   "toc_section_display": true,
   "toc_window_display": false
  }
 },
 "nbformat": 4,
 "nbformat_minor": 2
}
